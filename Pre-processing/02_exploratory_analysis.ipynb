{
 "cells": [
  {
   "cell_type": "code",
   "execution_count": 3,
   "id": "fc6b7e87-5bcf-4b7c-922c-d467dd264b87",
   "metadata": {
    "tags": []
   },
   "outputs": [
    {
     "name": "stdout",
     "output_type": "stream",
     "text": [
      "Requirement already satisfied: pandas in /shared/team/conda/gcc46.workshopzi/bioinformatics/lib/python3.13/site-packages (2.2.3)\n",
      "Requirement already satisfied: numpy>=1.26.0 in /shared/team/conda/gcc46.workshopzi/bioinformatics/lib/python3.13/site-packages (from pandas) (2.2.3)\n",
      "Requirement already satisfied: python-dateutil>=2.8.2 in /shared/team/conda/gcc46.workshopzi/bioinformatics/lib/python3.13/site-packages (from pandas) (2.9.0.post0)\n",
      "Requirement already satisfied: pytz>=2020.1 in /shared/team/conda/gcc46.workshopzi/bioinformatics/lib/python3.13/site-packages (from pandas) (2025.1)\n",
      "Requirement already satisfied: tzdata>=2022.7 in /shared/team/conda/gcc46.workshopzi/bioinformatics/lib/python3.13/site-packages (from pandas) (2025.1)\n",
      "Requirement already satisfied: six>=1.5 in /shared/team/conda/gcc46.workshopzi/bioinformatics/lib/python3.13/site-packages (from python-dateutil>=2.8.2->pandas) (1.17.0)\n"
     ]
    }
   ],
   "source": [
    "! pip install pandas"
   ]
  },
  {
   "cell_type": "code",
   "execution_count": 4,
   "id": "b0100731-449b-462c-bb6d-2fa61ebba535",
   "metadata": {
    "tags": []
   },
   "outputs": [],
   "source": [
    "import os \n",
    "import pandas as pd"
   ]
  },
  {
   "cell_type": "code",
   "execution_count": 5,
   "id": "522cd6e8-88cc-44e0-84e3-24c85918408b",
   "metadata": {
    "tags": []
   },
   "outputs": [],
   "source": [
    "! cd ../../"
   ]
  },
  {
   "cell_type": "code",
   "execution_count": 6,
   "id": "99259338-9fd8-4a11-b19b-42de6e8b5c9f",
   "metadata": {
    "tags": []
   },
   "outputs": [
    {
     "name": "stdout",
     "output_type": "stream",
     "text": [
      "/home/jovyan/DOUBLE_DESCENT/Scripts\n"
     ]
    }
   ],
   "source": [
    "! pwd"
   ]
  },
  {
   "cell_type": "code",
   "execution_count": 7,
   "id": "d7839174-0f62-4a17-a1ff-232ddcf40e7d",
   "metadata": {
    "tags": []
   },
   "outputs": [],
   "source": [
    "df = pd.read_csv(\"/home/jovyan/DOUBLE_DESCENT/Data/CRyPTIC_reuse_table_20221019.csv\", \n",
    "                 sep=\",\", index_col=0)"
   ]
  },
  {
   "cell_type": "code",
   "execution_count": 8,
   "id": "93c3e588-c8c3-4c15-9894-6ea5db833612",
   "metadata": {
    "tags": []
   },
   "outputs": [
    {
     "data": {
      "text/plain": [
       "Index(['AMI_BINARY_PHENOTYPE', 'BDQ_BINARY_PHENOTYPE', 'CFZ_BINARY_PHENOTYPE',\n",
       "       'DLM_BINARY_PHENOTYPE', 'EMB_BINARY_PHENOTYPE', 'ETH_BINARY_PHENOTYPE',\n",
       "       'INH_BINARY_PHENOTYPE', 'KAN_BINARY_PHENOTYPE', 'LEV_BINARY_PHENOTYPE',\n",
       "       'LZD_BINARY_PHENOTYPE', 'MXF_BINARY_PHENOTYPE', 'RIF_BINARY_PHENOTYPE',\n",
       "       'RFB_BINARY_PHENOTYPE', 'AMI_MIC', 'BDQ_MIC', 'CFZ_MIC', 'DLM_MIC',\n",
       "       'EMB_MIC', 'ETH_MIC', 'INH_MIC', 'KAN_MIC', 'LEV_MIC', 'LZD_MIC',\n",
       "       'MXF_MIC', 'RIF_MIC', 'RFB_MIC', 'AMI_PHENOTYPE_QUALITY',\n",
       "       'BDQ_PHENOTYPE_QUALITY', 'CFZ_PHENOTYPE_QUALITY',\n",
       "       'EMB_PHENOTYPE_QUALITY', 'ETH_PHENOTYPE_QUALITY',\n",
       "       'INH_PHENOTYPE_QUALITY', 'KAN_PHENOTYPE_QUALITY',\n",
       "       'LEV_PHENOTYPE_QUALITY', 'LZD_PHENOTYPE_QUALITY',\n",
       "       'MXF_PHENOTYPE_QUALITY', 'RIF_PHENOTYPE_QUALITY',\n",
       "       'RFB_PHENOTYPE_QUALITY', 'ENA_SAMPLE', 'VCF', 'REGENOTYPED_VCF'],\n",
       "      dtype='object')"
      ]
     },
     "execution_count": 8,
     "metadata": {},
     "output_type": "execute_result"
    }
   ],
   "source": [
    "df.columns"
   ]
  },
  {
   "cell_type": "code",
   "execution_count": 9,
   "id": "c83be2c2-cea1-4e53-83f8-b4b6d429be6d",
   "metadata": {
    "tags": []
   },
   "outputs": [],
   "source": [
    "df2 = df[[\"INH_BINARY_PHENOTYPE\", \"INH_MIC\", \"INH_PHENOTYPE_QUALITY\", \"VCF\"]]"
   ]
  },
  {
   "cell_type": "code",
   "execution_count": 10,
   "id": "6df07402-8810-4ee5-a2d4-c94e783a9b85",
   "metadata": {
    "tags": []
   },
   "outputs": [
    {
     "data": {
      "text/plain": [
       "(12288, 4)"
      ]
     },
     "execution_count": 10,
     "metadata": {},
     "output_type": "execute_result"
    }
   ],
   "source": [
    "df2.shape"
   ]
  },
  {
   "cell_type": "code",
   "execution_count": 11,
   "id": "76dc17ae-d093-4cf2-8b94-78c390b3e838",
   "metadata": {
    "tags": []
   },
   "outputs": [
    {
     "data": {
      "text/plain": [
       "array(['S', 'R', nan], dtype=object)"
      ]
     },
     "execution_count": 11,
     "metadata": {},
     "output_type": "execute_result"
    }
   ],
   "source": [
    "df2[\"INH_BINARY_PHENOTYPE\"].unique()"
   ]
  },
  {
   "cell_type": "code",
   "execution_count": 12,
   "id": "b9f2eeb5-fd04-4d7d-8767-0c1972cccc1f",
   "metadata": {
    "tags": []
   },
   "outputs": [
    {
     "data": {
      "text/plain": [
       "array(['HIGH', 'MEDIUM', 'LOW', nan], dtype=object)"
      ]
     },
     "execution_count": 12,
     "metadata": {},
     "output_type": "execute_result"
    }
   ],
   "source": [
    "df2[\"INH_PHENOTYPE_QUALITY\"].unique()"
   ]
  },
  {
   "cell_type": "code",
   "execution_count": 13,
   "id": "1a23445c-f43c-4e92-ac3d-db1120ead646",
   "metadata": {
    "tags": []
   },
   "outputs": [],
   "source": [
    "df2 = df2.loc[df2[\"INH_PHENOTYPE_QUALITY\"] == \"HIGH\"]"
   ]
  },
  {
   "cell_type": "code",
   "execution_count": 14,
   "id": "5d611853-7824-4be1-ab98-d64026b6c2b1",
   "metadata": {
    "tags": []
   },
   "outputs": [
    {
     "data": {
      "text/plain": [
       "(9519, 4)"
      ]
     },
     "execution_count": 14,
     "metadata": {},
     "output_type": "execute_result"
    }
   ],
   "source": [
    "df2.shape"
   ]
  },
  {
   "cell_type": "code",
   "execution_count": 15,
   "id": "14a0e94e-6344-445a-b45e-e2f0df0b2ea7",
   "metadata": {
    "tags": []
   },
   "outputs": [
    {
     "name": "stdout",
     "output_type": "stream",
     "text": [
      "5051\n"
     ]
    }
   ],
   "source": [
    "print(len([i for i in df2[\"INH_BINARY_PHENOTYPE\"] if i == \"S\"]))"
   ]
  },
  {
   "cell_type": "code",
   "execution_count": 16,
   "id": "504d6536-eaa2-4e17-8f78-13b6c0636596",
   "metadata": {
    "tags": []
   },
   "outputs": [
    {
     "name": "stdout",
     "output_type": "stream",
     "text": [
      "4468\n"
     ]
    }
   ],
   "source": [
    "print(len([i for i in df2[\"INH_BINARY_PHENOTYPE\"] if i == \"R\"]))"
   ]
  },
  {
   "cell_type": "code",
   "execution_count": 17,
   "id": "bfb648af-d013-4c8d-b523-089b68dc95a5",
   "metadata": {
    "tags": []
   },
   "outputs": [],
   "source": [
    "susceptible = df2.loc[df2[\"INH_BINARY_PHENOTYPE\"] == \"S\"]"
   ]
  },
  {
   "cell_type": "code",
   "execution_count": 18,
   "id": "6ef45086-36c7-4b48-b6b0-a2e35719356b",
   "metadata": {
    "tags": []
   },
   "outputs": [],
   "source": [
    "resistant = df2.loc[df2[\"INH_BINARY_PHENOTYPE\"] == \"R\"]"
   ]
  },
  {
   "cell_type": "code",
   "execution_count": 19,
   "id": "39ffe869-9774-49cf-b4e1-9e1c79cdf147",
   "metadata": {
    "tags": []
   },
   "outputs": [
    {
     "data": {
      "text/plain": [
       "((5051, 4), (4468, 4))"
      ]
     },
     "execution_count": 19,
     "metadata": {},
     "output_type": "execute_result"
    }
   ],
   "source": [
    "susceptible.shape, resistant.shape"
   ]
  },
  {
   "cell_type": "code",
   "execution_count": 28,
   "id": "5382e33b-b0e9-499a-a6d4-ee4f1a628569",
   "metadata": {
    "tags": []
   },
   "outputs": [
    {
     "data": {
      "text/plain": [
       "INH_BINARY_PHENOTYPE     0\n",
       "INH_MIC                  0\n",
       "INH_PHENOTYPE_QUALITY    0\n",
       "VCF                      0\n",
       "dtype: int64"
      ]
     },
     "execution_count": 28,
     "metadata": {},
     "output_type": "execute_result"
    }
   ],
   "source": [
    "susceptible.isna().sum()"
   ]
  },
  {
   "cell_type": "code",
   "execution_count": 29,
   "id": "5ca2c5dc-0894-4b15-b077-0886e609eef9",
   "metadata": {
    "tags": []
   },
   "outputs": [
    {
     "data": {
      "text/plain": [
       "INH_BINARY_PHENOTYPE     0\n",
       "INH_MIC                  0\n",
       "INH_PHENOTYPE_QUALITY    0\n",
       "VCF                      0\n",
       "dtype: int64"
      ]
     },
     "execution_count": 29,
     "metadata": {},
     "output_type": "execute_result"
    }
   ],
   "source": [
    "resistant.isna().sum()"
   ]
  },
  {
   "cell_type": "code",
   "execution_count": 20,
   "id": "e5de1a96-e0e2-4c96-a101-e19cf99d6a37",
   "metadata": {
    "tags": []
   },
   "outputs": [],
   "source": [
    "susceptible = susceptible.head(n=250)"
   ]
  },
  {
   "cell_type": "code",
   "execution_count": 21,
   "id": "fff48c5f-5f13-47ee-922f-bb0b2cb0baae",
   "metadata": {
    "tags": []
   },
   "outputs": [],
   "source": [
    "resistant = resistant.head(n=250)"
   ]
  },
  {
   "cell_type": "code",
   "execution_count": 22,
   "id": "8b228ea8-edae-49ce-933d-965b9791eb64",
   "metadata": {
    "tags": []
   },
   "outputs": [
    {
     "data": {
      "text/plain": [
       "(250, 250)"
      ]
     },
     "execution_count": 22,
     "metadata": {},
     "output_type": "execute_result"
    }
   ],
   "source": [
    "susceptible.shape[0], resistant.shape[0]"
   ]
  },
  {
   "cell_type": "code",
   "execution_count": 26,
   "id": "38f8a339-afd4-43be-b0a1-b4bb298c9b88",
   "metadata": {
    "tags": []
   },
   "outputs": [],
   "source": [
    "susceptible.to_csv(\"susceptible_metadata.csv\", sep=\",\")"
   ]
  },
  {
   "cell_type": "code",
   "execution_count": 27,
   "id": "1306a11e-cf22-4ec6-8725-59fb51f5b2d7",
   "metadata": {
    "tags": []
   },
   "outputs": [],
   "source": [
    "resistant.to_csv(\"resistant_metadata.csv\", sep=\",\")"
   ]
  }
 ],
 "metadata": {
  "kernelspec": {
   "display_name": "Python [conda env:bioinformatics]",
   "language": "python",
   "name": "conda-env-bioinformatics-py"
  },
  "language_info": {
   "codemirror_mode": {
    "name": "ipython",
    "version": 3
   },
   "file_extension": ".py",
   "mimetype": "text/x-python",
   "name": "python",
   "nbconvert_exporter": "python",
   "pygments_lexer": "ipython3",
   "version": "3.13.2"
  }
 },
 "nbformat": 4,
 "nbformat_minor": 5
}
