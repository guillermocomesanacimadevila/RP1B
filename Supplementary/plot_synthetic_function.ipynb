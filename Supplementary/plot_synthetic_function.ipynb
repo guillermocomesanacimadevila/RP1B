{
 "cells": [
  {
   "cell_type": "markdown",
   "id": "c15e497a-4501-4e9a-a10b-9c0e5b5e6bba",
   "metadata": {},
   "source": [
    "### 3D Plot Synthetic Function\n",
    "##### y = sin(2πX₀) + log₁₀(X₁ + 1) + 0.5ε, where ε ~ 𝒩(0, 1)"
   ]
  },
  {
   "cell_type": "code",
   "execution_count": 2,
   "id": "ad023844-8eed-4cde-ad00-e70011d7af47",
   "metadata": {},
   "outputs": [],
   "source": [
    "# -------- --------------------------------------- -------- #\n",
    "# -------- --------------------------------------- -------- #\n",
    "# -------- This Notebook is NOT part of the pipeline -------- #\n",
    "# -------- --------------------------------------- -------- #\n",
    "# -------- --------------------------------------- -------- #"
   ]
  },
  {
   "cell_type": "code",
   "execution_count": 3,
   "id": "2f2fc3f5-b77c-4c55-89fc-56b0c1e39877",
   "metadata": {},
   "outputs": [],
   "source": [
    "import numpy as np\n",
    "import matplotlib.pyplot as plt \n",
    "from mpl_toolkits.mplot3d import Axes3D"
   ]
  },
  {
   "cell_type": "code",
   "execution_count": null,
   "id": "04622d61-5725-45d5-9cac-54e1d111952a",
   "metadata": {},
   "outputs": [],
   "source": []
  },
  {
   "cell_type": "code",
   "execution_count": null,
   "id": "3276c78c-e0a8-4751-a9bf-18c50d4bc312",
   "metadata": {},
   "outputs": [],
   "source": []
  },
  {
   "cell_type": "code",
   "execution_count": null,
   "id": "2f14c94b-f76b-492e-8ed2-1b084dc70511",
   "metadata": {},
   "outputs": [],
   "source": []
  },
  {
   "cell_type": "code",
   "execution_count": null,
   "id": "3cae4e60-ceed-49d6-a2e6-536fb1452a0c",
   "metadata": {},
   "outputs": [],
   "source": []
  },
  {
   "cell_type": "code",
   "execution_count": null,
   "id": "183d3a75-1f41-4d1b-a949-127d57f69e58",
   "metadata": {},
   "outputs": [],
   "source": []
  },
  {
   "cell_type": "code",
   "execution_count": null,
   "id": "d8b50f2d-e324-40f2-9c3e-04da56ec7208",
   "metadata": {},
   "outputs": [],
   "source": []
  }
 ],
 "metadata": {
  "kernelspec": {
   "display_name": "Python 3 (ipykernel)",
   "language": "python",
   "name": "python3"
  },
  "language_info": {
   "codemirror_mode": {
    "name": "ipython",
    "version": 3
   },
   "file_extension": ".py",
   "mimetype": "text/x-python",
   "name": "python",
   "nbconvert_exporter": "python",
   "pygments_lexer": "ipython3",
   "version": "3.12.7"
  }
 },
 "nbformat": 4,
 "nbformat_minor": 5
}
